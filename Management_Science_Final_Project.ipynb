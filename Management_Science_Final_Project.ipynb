{
 "cells": [
  {
   "cell_type": "markdown",
   "metadata": {},
   "source": [
    "# Step 1: Import required libraries"
   ]
  },
  {
   "cell_type": "code",
   "execution_count": 1,
   "metadata": {},
   "outputs": [],
   "source": [
    "import pandas as pd\n",
    "import gurobipy as gp\n",
    "from gurobipy import GRB\n",
    "import numpy as np\n",
    "from itertools import product"
   ]
  },
  {
   "cell_type": "markdown",
   "metadata": {},
   "source": [
    "# Step 2: Data Handling"
   ]
  },
  {
   "cell_type": "code",
   "execution_count": 2,
   "metadata": {},
   "outputs": [],
   "source": [
    "#Path to Excel file\n",
    "file_path = 'Updated_Project_Requirements.xlsx'\n",
    "file_path1 = 'Subset_Student_responses.xlsx'\n",
    "\n",
    "# Read the Excel file into a DataFrame\n",
    "project_requirements_df = pd.read_excel(file_path)\n",
    "student_responses_df = pd.read_excel(file_path1)\n"
   ]
  },
  {
   "cell_type": "code",
   "execution_count": 3,
   "metadata": {},
   "outputs": [],
   "source": [
    "project = project_requirements_df['Project Name']\n",
    "project_social_impact = project_requirements_df['Social Impact']\n",
    "project_technology_stratergy = project_requirements_df['Technology Strategy']\n",
    "project_market_development = project_requirements_df['Product/ Market Development']\n",
    "project_business_model = project_requirements_df['Business Model/Process Transformation']\n",
    "project_data_science = project_requirements_df['Data Science/ Business Analytics']\n",
    "project_capacity = project_requirements_df['Project Capacity']\n",
    "\n",
    "students = student_responses_df['Response ID']\n",
    "first_choice = student_responses_df['Top 3 projects - First Choice']\n",
    "second_choice = student_responses_df['Top 3 projects - Second Choice']\n",
    "third_choice = student_responses_df['Top 3 projects - Third Choice']\n",
    "students_social_impact = student_responses_df['Preferences for project categories - Social Impact\\n\\nNote that rank 1 indicates your highest interest and 5 indicates your lowest interest. - Social Impact']\n",
    "students_technology_stratergy = student_responses_df['Preferences for project categories - Technology Strategy\\n\\nNote that rank 1 indicates your highest interest and 5 indicates your lowest interest. - Technology Strategy']\n",
    "students_market_development = student_responses_df['Preferences for project categories - Product/Market Development\\n\\nNote that rank 1 indicates your highest interest and 5 indicates your lowest interest. - Product/Market Development'] \n",
    "students_business_model = student_responses_df['Preferences for project categories - Business Model/Process\\n\\nNote that rank 1 indicates your highest interest and 5 indicates your lowest interest. - Business Model/Process']\n",
    "students_data_science = student_responses_df['Preferences for project categories - Data Science/Business Analytics\\n\\nNote that rank 1 indicates your highest interest and 5 indicates your lowest interest. - Data Science/Business Analytics']\n"
   ]
  },
  {
   "cell_type": "markdown",
   "metadata": {},
   "source": [
    "# Step 3: Mapping and Scoring "
   ]
  },
  {
   "cell_type": "code",
   "execution_count": 4,
   "metadata": {},
   "outputs": [],
   "source": [
    "# Categories and preferences\n",
    "categories = [\n",
    "    'Social Impact', 'Technology Strategy', 'Product/ Market Development',\n",
    "    'Business Model/Process Transformation', 'Data Science/ Business Analytics'\n",
    "]\n",
    "\n",
    "# Mapping from DataFrame columns to category names\n",
    "project_category_map = {\n",
    "    'Social Impact': project_social_impact,\n",
    "    'Technology Strategy': project_technology_stratergy,\n",
    "    'Product/ Market Development': project_market_development,\n",
    "    'Business Model/Process Transformation': project_business_model,\n",
    "    'Data Science/ Business Analytics': project_data_science\n",
    "}\n",
    "\n",
    "student_preference_map = {\n",
    "    'Social Impact': students_social_impact,\n",
    "    'Technology Strategy': students_technology_stratergy,\n",
    "    'Product/ Market Development': students_market_development,\n",
    "    'Business Model/Process Transformation': students_business_model,\n",
    "    'Data Science/ Business Analytics': students_data_science\n",
    "}\n",
    "# Inverting the student preference scores\n",
    "for category in categories:\n",
    "    student_preference_map[category] = 6 - student_preference_map[category]\n",
    "\n",
    "# Initialize a DataFrame to store compatibility scores\n",
    "compatibility_scores = pd.DataFrame(0, index=student_responses_df.index, columns=project_requirements_df.index)\n",
    "\n",
    "# Modify the weights for choices\n",
    "top_choice_weight = 100  # Significantly high score for top 3 choices\n",
    "category_max_score = 5   # Maximum score a project can get based on category preferences\n",
    "\n",
    "# Calculate compatibility scores\n",
    "for student, project_idx in product(compatibility_scores.index, compatibility_scores.columns):\n",
    "    project_name = project_requirements_df.iloc[project_idx]['Project Name']\n",
    "    # Sum of category scores, normalized\n",
    "    category_score = sum(\n",
    "        project_category_map[cat][project_idx] * student_preference_map[cat][student]\n",
    "        for cat in categories\n",
    "    ) / len(categories) * category_max_score\n",
    "\n",
    "    # Explicitly high scores for top three choices\n",
    "    choice_score = 0\n",
    "    if project_name == first_choice[student]:\n",
    "        choice_score = top_choice_weight\n",
    "    elif project_name == second_choice[student]:\n",
    "        choice_score = top_choice_weight * 0.8  # Slightly lower for second choice\n",
    "    elif project_name == third_choice[student]:\n",
    "        choice_score = top_choice_weight * 0.6  # Even lower for third choice\n",
    "\n",
    "    # Calculate final compatibility score\n",
    "    compatibility_scores.at[student, project_idx] = category_score + choice_score\n"
   ]
  },
  {
   "cell_type": "markdown",
   "metadata": {},
   "source": [
    "# Step 4: Create an Optimization Model"
   ]
  },
  {
   "cell_type": "code",
   "execution_count": 5,
   "metadata": {},
   "outputs": [
    {
     "name": "stdout",
     "output_type": "stream",
     "text": [
      "Set parameter Username\n",
      "Academic license - for non-commercial use only - expires 2024-10-21\n"
     ]
    }
   ],
   "source": [
    "# Create a Gurobi model\n",
    "m = gp.Model(\"project_assignment\")"
   ]
  },
  {
   "cell_type": "markdown",
   "metadata": {},
   "source": [
    "# Step 5: Add variables"
   ]
  },
  {
   "cell_type": "code",
   "execution_count": 6,
   "metadata": {},
   "outputs": [],
   "source": [
    "# Replace NaN or infinite values in compatibility_scores with 0\n",
    "compatibility_scores = compatibility_scores.replace([np.inf, -np.inf], np.nan)\n",
    "compatibility_scores.fillna(0, inplace=True)\n",
    "\n",
    "\n",
    "# Before setting the objective, check for NaN or Inf values\n",
    "if np.any(np.isnan(compatibility_scores)) or np.any(np.isinf(compatibility_scores)):\n",
    "    raise ValueError(\"compatibility_scores contains NaN or infinite values\")\n",
    "\n",
    "# Decision variables for student-project assignments\n",
    "assignments = m.addVars(\n",
    "    compatibility_scores.index, compatibility_scores.columns,\n",
    "    vtype=GRB.BINARY, name=\"assign\"\n",
    ")\n"
   ]
  },
  {
   "cell_type": "markdown",
   "metadata": {},
   "source": [
    "# Step 6: Add Constraints"
   ]
  },
  {
   "cell_type": "code",
   "execution_count": 7,
   "metadata": {},
   "outputs": [],
   "source": [
    "# Add constraints for each student to be assigned to exactly one project\n",
    "for s in compatibility_scores.index:\n",
    "    m.addConstr(\n",
    "        gp.quicksum(assignments[s, p] for p in compatibility_scores.columns) == 1,\n",
    "        name=f\"assign_one_project_{s}\"\n",
    "    )\n",
    "\n",
    "# Add constraints for project capacities\n",
    "# Troubleshooting: Verify that project_capacity matches the projects in compatibility_scores.columns\n",
    "for p in compatibility_scores.columns:\n",
    "    project_capacity_value = project_capacity[p]  # Check the capacity for this project\n",
    "    assigned_students_sum = gp.quicksum(assignments[s, p] for s in compatibility_scores.index)\n",
    "    m.addConstr(\n",
    "        assigned_students_sum <= project_capacity_value,\n",
    "        name=f\"project_capacity_{p}\"\n",
    "    )"
   ]
  },
  {
   "cell_type": "markdown",
   "metadata": {},
   "source": [
    "# Step 7: First Priority: Optimize for Compatibility Score"
   ]
  },
  {
   "cell_type": "code",
   "execution_count": 8,
   "metadata": {},
   "outputs": [
    {
     "name": "stdout",
     "output_type": "stream",
     "text": [
      "Gurobi Optimizer version 10.0.3 build v10.0.3rc0 (mac64[arm])\n",
      "\n",
      "CPU model: Apple M1 Pro\n",
      "Thread count: 8 physical cores, 8 logical processors, using up to 8 threads\n",
      "\n",
      "Optimize a model with 254 rows, 8385 columns and 16770 nonzeros\n",
      "Model fingerprint: 0x0383a417\n",
      "Variable types: 0 continuous, 8385 integer (8385 binary)\n",
      "Coefficient statistics:\n",
      "  Matrix range     [1e+00, 1e+00]\n",
      "  Objective range  [2e+02, 1e+03]\n",
      "  Bounds range     [1e+00, 1e+00]\n",
      "  RHS range        [1e+00, 2e+01]\n",
      "Found heuristic solution: objective 173030.00000\n",
      "Presolve time: 0.01s\n",
      "Presolved: 254 rows, 8385 columns, 16770 nonzeros\n",
      "Variable types: 0 continuous, 8385 integer (8385 binary)\n",
      "Found heuristic solution: objective 189530.00000\n",
      "\n",
      "Root relaxation: objective 2.136900e+05, 783 iterations, 0.01 seconds (0.01 work units)\n",
      "\n",
      "    Nodes    |    Current Node    |     Objective Bounds      |     Work\n",
      " Expl Unexpl |  Obj  Depth IntInf | Incumbent    BestBd   Gap | It/Node Time\n",
      "\n",
      "*    0     0               0    213690.00000 213690.000  0.00%     -    0s\n",
      "\n",
      "Explored 1 nodes (783 simplex iterations) in 0.04 seconds (0.05 work units)\n",
      "Thread count was 8 (of 8 available processors)\n",
      "\n",
      "Solution count 3: 213690 189530 173030 \n",
      "\n",
      "Optimal solution found (tolerance 1.00e-04)\n",
      "Best objective 2.136900000000e+05, best bound 2.136900000000e+05, gap 0.0000%\n"
     ]
    }
   ],
   "source": [
    "# Primary Objective: Maximize the sum of compatibility scores\n",
    "primary_objective = gp.quicksum(\n",
    "    assignments[s, p] * compatibility_scores.at[s, p]\n",
    "    for s in compatibility_scores.index\n",
    "    for p in compatibility_scores.columns\n",
    ")\n",
    "# Set the objective to be the primary objective\n",
    "m.setObjective(primary_objective, GRB.MAXIMIZE)\n",
    "# Optimize the model\n",
    "m.optimize()"
   ]
  },
  {
   "cell_type": "markdown",
   "metadata": {},
   "source": [
    "# Step 8: Add the solution from the first priority as a constraint & \n",
    "   # Second Priority: Optimize for Top 3 Choices"
   ]
  },
  {
   "cell_type": "code",
   "execution_count": 9,
   "metadata": {},
   "outputs": [
    {
     "name": "stdout",
     "output_type": "stream",
     "text": [
      "Gurobi Optimizer version 10.0.3 build v10.0.3rc0 (mac64[arm])\n",
      "\n",
      "CPU model: Apple M1 Pro\n",
      "Thread count: 8 physical cores, 8 logical processors, using up to 8 threads\n",
      "\n",
      "Optimize a model with 255 rows, 8385 columns and 24882 nonzeros\n",
      "Model fingerprint: 0x94cfbb0e\n",
      "Variable types: 0 continuous, 8385 integer (8385 binary)\n",
      "Coefficient statistics:\n",
      "  Matrix range     [1e+00, 1e+03]\n",
      "  Objective range  [0e+00, 0e+00]\n",
      "  Bounds range     [1e+00, 1e+00]\n",
      "  RHS range        [1e+00, 2e+05]\n",
      "\n",
      "Loaded MIP start from previous solve with objective -0\n",
      "\n",
      "\n",
      "Explored 0 nodes (0 simplex iterations) in 0.00 seconds (0.00 work units)\n",
      "Thread count was 1 (of 8 available processors)\n",
      "\n",
      "Solution count 1: -0 \n",
      "No other solutions better than -0\n",
      "\n",
      "Optimal solution found (tolerance 1.00e-04)\n",
      "Best objective -0.000000000000e+00, best bound -0.000000000000e+00, gap 0.0000%\n"
     ]
    }
   ],
   "source": [
    "# Secondary Objective: Maximize assignments from top three choices\n",
    "secondary_objective = gp.quicksum(\n",
    "    assignments[s, p] * top_choice_weight\n",
    "    for s in compatibility_scores.index\n",
    "    for p in compatibility_scores.columns\n",
    "    if project_name in [first_choice[s], second_choice[s], third_choice[s]]\n",
    ")\n",
    "# Add the solution from the first priority as a constraint\n",
    "m.addConstr(primary_objective <= m.getObjective().getValue())\n",
    "# Set the objective to be the secondary objective\n",
    "m.setObjective(secondary_objective, GRB.MAXIMIZE)\n",
    "# Optimize the model\n",
    "m.optimize()"
   ]
  },
  {
   "cell_type": "markdown",
   "metadata": {},
   "source": [
    "# Step 9: Output the results"
   ]
  },
  {
   "cell_type": "code",
   "execution_count": 10,
   "metadata": {},
   "outputs": [
    {
     "name": "stdout",
     "output_type": "stream",
     "text": [
      "Assignments have been written to Result.csv\n"
     ]
    }
   ],
   "source": [
    "# Extract the assignments from the model\n",
    "assignment_results = []\n",
    "\n",
    "if m.status == GRB.OPTIMAL:\n",
    "    for s in compatibility_scores.index:\n",
    "        for p in compatibility_scores.columns:\n",
    "            if assignments[s, p].X > 0.5:  # If the student-project pair is selected\n",
    "                # Use the project title mapping to get the descriptive title\n",
    "                assignment_results.append({\n",
    "                    'Student': students.iloc[s],  # Assuming 's' is the student ID (Response ID)\n",
    "                    'Project': project.iloc[p], \n",
    "                    'Assigned': assignments[s, p].X # Use the descriptive title\n",
    "                })\n",
    "# Convert the results to a DataFrame\n",
    "assignment_results_df = pd.DataFrame(assignment_results)\n",
    "\n",
    "# Define the file path for the CSV file\n",
    "csv_file_path = 'Result.csv'\n",
    "\n",
    "# Write the DataFrame to a CSV file\n",
    "assignment_results_df.to_csv(csv_file_path, index=False)\n",
    "\n",
    "# Output the file path\n",
    "print(f\"Assignments have been written to {csv_file_path}\")"
   ]
  },
  {
   "cell_type": "code",
   "execution_count": 11,
   "metadata": {},
   "outputs": [
    {
     "name": "stdout",
     "output_type": "stream",
     "text": [
      "Project: 0, Capacity: 5, Assigned: 5.0\n",
      "Project: 1, Capacity: 5, Assigned: 5.0\n",
      "Project: 2, Capacity: 7, Assigned: 7.0\n",
      "Project: 3, Capacity: 5, Assigned: 5.0\n",
      "Project: 4, Capacity: 6, Assigned: 6.0\n",
      "Project: 5, Capacity: 5, Assigned: 5.0\n",
      "Project: 6, Capacity: 6, Assigned: 6.0\n",
      "Project: 7, Capacity: 5, Assigned: 5.0\n",
      "Project: 8, Capacity: 5, Assigned: 5.0\n",
      "Project: 9, Capacity: 5, Assigned: 5.0\n",
      "Project: 10, Capacity: 6, Assigned: 6.0\n",
      "Project: 11, Capacity: 8, Assigned: 6.0\n",
      "Project: 12, Capacity: 8, Assigned: 8.0\n",
      "Project: 13, Capacity: 8, Assigned: 8.0\n",
      "Project: 14, Capacity: 15, Assigned: 15.0\n",
      "Project: 15, Capacity: 5, Assigned: 2.0\n",
      "Project: 16, Capacity: 5, Assigned: 5.0\n",
      "Project: 17, Capacity: 5, Assigned: 2.0\n",
      "Project: 18, Capacity: 6, Assigned: 5.0\n",
      "Project: 19, Capacity: 5, Assigned: 5.0\n",
      "Project: 20, Capacity: 10, Assigned: 10.0\n",
      "Project: 21, Capacity: 10, Assigned: 10.0\n",
      "Project: 22, Capacity: 10, Assigned: 10.0\n",
      "Project: 23, Capacity: 4, Assigned: 4.0\n",
      "Project: 24, Capacity: 5, Assigned: 5.0\n",
      "Project: 25, Capacity: 5, Assigned: 5.0\n",
      "Project: 26, Capacity: 6, Assigned: 6.0\n",
      "Project: 27, Capacity: 6, Assigned: 6.0\n",
      "Project: 28, Capacity: 4, Assigned: 4.0\n",
      "Project: 29, Capacity: 5, Assigned: 5.0\n",
      "Project: 30, Capacity: 2, Assigned: 2.0\n",
      "Project: 31, Capacity: 5, Assigned: 0.0\n",
      "Project: 32, Capacity: 5, Assigned: 5.0\n",
      "Project: 33, Capacity: 3, Assigned: 3.0\n",
      "Project: 34, Capacity: 4, Assigned: 4.0\n",
      "Project: 35, Capacity: 5, Assigned: 5.0\n",
      "Project: 36, Capacity: 5, Assigned: 5.0\n",
      "Project: 37, Capacity: 5, Assigned: 5.0\n",
      "Project: 38, Capacity: 5, Assigned: 5.0\n"
     ]
    }
   ],
   "source": [
    "# Output the file path\n",
    "for p in compatibility_scores.columns:\n",
    "    project_capacity_value = project_capacity[p]\n",
    "    assigned_students_sum = sum(assignments[s, p].X for s in compatibility_scores.index)\n",
    "    print(f\"Project: {p}, Capacity: {project_capacity_value}, Assigned: {assigned_students_sum}\")"
   ]
  },
  {
   "cell_type": "code",
   "execution_count": null,
   "metadata": {},
   "outputs": [],
   "source": []
  }
 ],
 "metadata": {
  "kernelspec": {
   "display_name": "Python 3 (ipykernel)",
   "language": "python",
   "name": "python3"
  },
  "language_info": {
   "codemirror_mode": {
    "name": "ipython",
    "version": 3
   },
   "file_extension": ".py",
   "mimetype": "text/x-python",
   "name": "python",
   "nbconvert_exporter": "python",
   "pygments_lexer": "ipython3",
   "version": "3.10.0"
  },
  "vscode": {
   "interpreter": {
    "hash": "3ee3aa159863bf88b891c7f2932e6b12e07ada8c3a89738ea7974ad076396538"
   }
  }
 },
 "nbformat": 4,
 "nbformat_minor": 2
}
